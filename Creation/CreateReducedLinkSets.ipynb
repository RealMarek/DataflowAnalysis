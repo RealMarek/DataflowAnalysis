{
 "cells": [
  {
   "cell_type": "code",
   "execution_count": 477,
   "id": "6070c3db",
   "metadata": {},
   "outputs": [],
   "source": [
    "import urllib3\n",
    "from bs4 import BeautifulSoup\n",
    "import re  \n",
    "import requests\n",
    "import json\n",
    "import ast\n",
    "import numpy as np\n",
    "\n",
    "\n",
    "def getOrderedLinks(wikipage):\n",
    "    try:\n",
    "        http = urllib3.PoolManager()\n",
    "        response = http.request(\"GET\", wikipage)\n",
    "        soup = BeautifulSoup(response.data)\n",
    "        soup = soup.find(id=\"mw-content-text\")\n",
    "        link_list = soup.find_all(\"a\",href=re.compile(\"/wiki/\"))\n",
    "        return link_list\n",
    "    except:\n",
    "        print(wikipage)\n",
    "    \n",
    "    \n",
    "def filterLinks(soup):\n",
    "    reg = re.compile(\"^(?!/wiki/Datei:).+\")\n",
    "    reg2 = re.compile(\"^(?!/wiki/Spezial:).+\")\n",
    "    reg3 = re.compile(\"^/wiki\")\n",
    "    filteredList = [e[\"title\"] for e in soup if reg.match(e[\"href\"]) and reg2.match(e[\"href\"]) and reg3.match(e[\"href\"])]\n",
    "    return filteredList\n",
    "\n",
    "def filterTitle(titleList):\n",
    "    return [e for e in titleList if not \":\" in e]\n",
    "\n",
    "def cutList(titleList, length):\n",
    "    return list(set(titleList[:length]))\n",
    "\n",
    "def saveLinks(base_link, outgoing_links, position):\n",
    "    data = {\n",
    "        \"baselink\": base_link,\n",
    "        \"outgoing_links\": outgoing_links\n",
    "    }\n",
    "    with open(position+\".json\", \"a\") as link_file:\n",
    "        file = json.dumps(data)\n",
    "        type(file)\n",
    "        link_file.write(file)\n",
    "        \n",
    "def createLinkFile(titelList,position):\n",
    "    for titel in titelList:\n",
    "        ordered = cutList(filterLinks(getOrderedLinks(\"https://de.wikipedia.org/wiki/\" + titel)), 30)\n",
    "        saveLinks(titel,ordered,position)"
   ]
  },
  {
   "cell_type": "code",
   "execution_count": 482,
   "id": "9696c477",
   "metadata": {},
   "outputs": [],
   "source": [
    "with open(\"../Data/New_york/backlinks_New_york.txt\", encoding=\"utf8\") as koln_backlinks:\n",
    "    kb = koln_backlinks.read()\n",
    "titelList1 = ast.literal_eval(kb)\n",
    "filteredList1 = filterTitle(titelList1)\n",
    "\n",
    "with open(\"../Data/New_york/random_New_york.txt\", encoding=\"utf8\") as koln_random:\n",
    "    kr = koln_random.read()\n",
    "titelList2 = ast.literal_eval(kr)\n",
    "filteredList2 = filterTitle(titelList2)"
   ]
  },
  {
   "cell_type": "code",
   "execution_count": 487,
   "id": "7bf11b27",
   "metadata": {},
   "outputs": [
    {
     "name": "stdout",
     "output_type": "stream",
     "text": [
      "10207\n",
      "100\n"
     ]
    }
   ],
   "source": [
    "import pandas as pd\n",
    "print(len(filteredList1))\n",
    "print(len(filteredList2))\n",
    "all = set().union(filteredList2,filteredList1)\n",
    "len(all)\n",
    "df = pd.DataFrame({\"links\":list(all)})\n",
    "df.to_csv(\"../Data/New_york/allLinks.csv\")"
   ]
  },
  {
   "cell_type": "code",
   "execution_count": 59,
   "id": "96ef3fc3",
   "metadata": {},
   "outputs": [],
   "source": [
    "def print_strings_with_colon(arr):\n",
    "    for string in arr:\n",
    "        if \":\" in string:\n",
    "            print(string)"
   ]
  },
  {
   "cell_type": "code",
   "execution_count": 22,
   "id": "b887da0e",
   "metadata": {},
   "outputs": [],
   "source": [
    "def tagToTitle(tagList):\n",
    "    return [i.get(\"title\") for i in tagList]\n",
    "def filterTags(tagList):\n",
    "    return [e for e in tagList if not \":\" in e.get(\"href\")]"
   ]
  },
  {
   "cell_type": "code",
   "execution_count": 24,
   "id": "d536734a",
   "metadata": {},
   "outputs": [
    {
     "data": {
      "text/plain": [
       "[<a href=\"/wiki/Systematik_(Biologie)\" title=\"Systematik (Biologie)\">Systematik</a>,\n",
       " <a href=\"/wiki/Ordnung_(Biologie)\" title=\"Ordnung (Biologie)\">Unterordnung</a>,\n",
       " <a href=\"/wiki/Schlangen\" title=\"Schlangen\">Schlangen</a>,\n",
       " <a href=\"/wiki/Familie_(Biologie)\" title=\"Familie (Biologie)\">Überfamilie</a>,\n",
       " <a class=\"mw-redirect\" href=\"/wiki/Boaartige\" title=\"Boaartige\">Boaartige</a>,\n",
       " <a href=\"/wiki/Familie_(Biologie)\" title=\"Familie (Biologie)\">Familie</a>,\n",
       " <a href=\"/wiki/Boas_(Familie)\" title=\"Boas (Familie)\">Boas</a>,\n",
       " <a href=\"/wiki/Familie_(Biologie)\" title=\"Familie (Biologie)\">Unterfamilie</a>,\n",
       " <a href=\"/wiki/Boaschlangen\" title=\"Boaschlangen\">Boaschlangen</a>,\n",
       " <a href=\"/wiki/Gattung_(Biologie)\" title=\"Gattung (Biologie)\">Gattung</a>,\n",
       " <a href=\"/wiki/Anakondas\" title=\"Anakondas\">Anakondas</a>,\n",
       " <a href=\"/wiki/Art_(Biologie)\" title=\"Art (Biologie)\">Art</a>,\n",
       " <a href=\"/wiki/Nomenklatur_(Biologie)\" title=\"Nomenklatur (Biologie)\">Wissenschaftlicher Name</a>,\n",
       " <a href=\"/wiki/Carl_von_Linn%C3%A9\" title=\"Carl von Linné\">Linnaeus</a>,\n",
       " <a href=\"/wiki/Art_(Biologie)\" title=\"Art (Biologie)\">Schlangenart</a>,\n",
       " <a href=\"/wiki/Familie_(Biologie)\" title=\"Familie (Biologie)\">Familie</a>,\n",
       " <a href=\"/wiki/Boas_(Familie)\" title=\"Boas (Familie)\">Boas</a>,\n",
       " <a href=\"/wiki/Boaschlangen\" title=\"Boaschlangen\">Boaschlangen</a>,\n",
       " <a class=\"mw-redirect\" href=\"/wiki/Geschlechtsdimorphismus\" title=\"Geschlechtsdimorphismus\">Geschlechtsdimorphismus</a>,\n",
       " <a href=\"/wiki/Venezuela\" title=\"Venezuela\">Venezuela</a>,\n",
       " <a href=\"/wiki/Scutum_supralabiale\" title=\"Scutum supralabiale\">Supralabialia</a>,\n",
       " <a href=\"/wiki/Scutum_sublabiale\" title=\"Scutum sublabiale\">Infralabialia</a>,\n",
       " <a href=\"/wiki/Scutum_ventrale\" title=\"Scutum ventrale\">Ventralschilde</a>,\n",
       " <a class=\"mw-redirect\" href=\"/wiki/Subcaudalia\" title=\"Subcaudalia\">Subcaudalia</a>,\n",
       " <a class=\"mw-redirect\" href=\"/wiki/Lage-_und_Richtungsbezeichnungen\" title=\"Lage- und Richtungsbezeichnungen\">dorsalen</a>,\n",
       " <a href=\"/wiki/Augenfleck_(Abwehr)\" title=\"Augenfleck (Abwehr)\">Augenflecken</a>,\n",
       " <a href=\"/wiki/Anden\" title=\"Anden\">Anden</a>,\n",
       " <a class=\"mw-redirect\" href=\"/wiki/Orinoko\" title=\"Orinoko\">Orinoko</a>,\n",
       " <a href=\"/wiki/Amazonas\" title=\"Amazonas\">Amazonas</a>,\n",
       " <a class=\"mw-redirect\" href=\"/wiki/Rio_Paran%C3%A1\" title=\"Rio Paraná\">Rio Paraná</a>,\n",
       " <a href=\"/wiki/R%C3%ADo_Paraguay\" title=\"Río Paraguay\">Río Paraguay</a>,\n",
       " <a href=\"/wiki/Capybara\" title=\"Capybara\">Capybara</a>,\n",
       " <a href=\"/wiki/Pr%C3%A4parat\" title=\"Präparat\">Präparat</a>,\n",
       " <a class=\"mw-redirect\" href=\"/wiki/Naturmuseum_Senckenberg\" title=\"Naturmuseum Senckenberg\">Naturmuseum Senckenberg</a>,\n",
       " <a href=\"/wiki/Fische\" title=\"Fische\">Fische</a>,\n",
       " <a href=\"/wiki/Amphibien\" title=\"Amphibien\">Amphibien</a>,\n",
       " <a href=\"/wiki/Reptilien\" title=\"Reptilien\">Reptilien</a>,\n",
       " <a href=\"/wiki/V%C3%B6gel\" title=\"Vögel\">Vögel</a>,\n",
       " <a href=\"/wiki/S%C3%A4ugetiere\" title=\"Säugetiere\">Säugetiere</a>,\n",
       " <a href=\"/wiki/Capybara\" title=\"Capybara\">Capybaras</a>,\n",
       " <a href=\"/wiki/Wei%C3%9Fwedelhirsch\" title=\"Weißwedelhirsch\">Weißwedelhirsche</a>,\n",
       " <a href=\"/wiki/Kaimane\" title=\"Kaimane\">Kaimane</a>,\n",
       " <a href=\"/wiki/Mortalit%C3%A4t\" title=\"Mortalität\">Mortalität</a>,\n",
       " <a href=\"/wiki/Katzen\" title=\"Katzen\">Großkatzen</a>,\n",
       " <a href=\"/wiki/Kaimane\" title=\"Kaimane\">Kaimanen</a>,\n",
       " <a href=\"/wiki/Venezuela\" title=\"Venezuela\">Venezuela</a>,\n",
       " <a href=\"/wiki/Begattung\" title=\"Begattung\">Paarung</a>,\n",
       " <a href=\"/wiki/Kloake_(Biologie)\" title=\"Kloake (Biologie)\">Kloake</a>,\n",
       " <a href=\"/wiki/Polyandrie\" title=\"Polyandrie\">polyandrisch</a>,\n",
       " <a href=\"/wiki/Ovoviviparie\" title=\"Ovoviviparie\">ovovivipar</a>,\n",
       " <a href=\"/wiki/Embryo\" title=\"Embryo\">Embryos</a>,\n",
       " <a href=\"/wiki/IUCN\" title=\"IUCN\">IUCN</a>,\n",
       " <a href=\"/wiki/The_Reptile_Database\" title=\"The Reptile Database\">The Reptile Database</a>]"
      ]
     },
     "execution_count": 24,
     "metadata": {},
     "output_type": "execute_result"
    }
   ],
   "source": [
    "filterTags(tags)"
   ]
  },
  {
   "cell_type": "code",
   "execution_count": null,
   "id": "34f8a88a",
   "metadata": {},
   "outputs": [],
   "source": []
  }
 ],
 "metadata": {
  "kernelspec": {
   "display_name": "Python 3 (ipykernel)",
   "language": "python",
   "name": "python3"
  }
 },
 "nbformat": 4,
 "nbformat_minor": 5
}
