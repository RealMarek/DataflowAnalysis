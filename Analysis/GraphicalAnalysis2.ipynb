{
 "cells": [
  {
   "cell_type": "code",
   "execution_count": 431,
   "metadata": {},
   "outputs": [],
   "source": [
    "import pandas as pd\n",
    "import numpy as np\n"
   ]
  },
  {
   "cell_type": "code",
   "execution_count": 432,
   "metadata": {},
   "outputs": [],
   "source": [
    "with open(\"Klaus_Teuber(1).json\", encoding=\"utf-8\") as file:\n",
    "    text = file.read()\n",
    "    klaus_teuber_data = json.loads(text)"
   ]
  },
  {
   "cell_type": "code",
   "execution_count": 433,
   "metadata": {},
   "outputs": [],
   "source": [
    "klaus_teuber_data[\"backlinks\"][len(klaus_teuber_data[\"backlinks\"])-1]\n",
    "filtered = [e for e in klaus_teuber_data[\"backlinks\"]if type(e[\"views\"]) == list]\n",
    "filtered2 = [e for e in filtered if len(e[\"views\"]) == 93]"
   ]
  },
  {
   "cell_type": "code",
   "execution_count": 434,
   "metadata": {},
   "outputs": [
    {
     "data": {
      "text/plain": [
       "array([21904, 25205, 19161,  5746,  2617,  2289,  2029,  2232,  2270,\n",
       "        2151,  2116,  2551,  2151,  2025,  1954,  3008,  5092,  3929,\n",
       "        2283,  1938,  1991,  1844,  2176,  2278,  1940,  2266,  2302,\n",
       "        2067,  2182,  2270,  2061,  2380,  2070,  2029,  2013,  2029,\n",
       "        2421,  2153,  3188,  2765,  2201,  2013,  1960,  2151,  2105,\n",
       "        2222,  2040,  2097,  1965,  1796,  2021,  2009,  2118,  2953,\n",
       "        2547,  2187,  2031,  2314,  2156,  2057,  1963,  1853,  1751,\n",
       "        1655,  1884,  1978,  1835,  1922,  2055,  1882,  1729,  1983,\n",
       "        2081,  3859,  3255,  2131,  1868,  1859,  2116,  2150,  2061,\n",
       "        1921,  1707,  1984,  1949,  2074,  1941,  1944,  1812,  2092,\n",
       "        1811,  1763,  2049])"
      ]
     },
     "execution_count": 434,
     "metadata": {},
     "output_type": "execute_result"
    }
   ],
   "source": [
    "sum = np.array(len(filtered2[0][\"views\"]))\n",
    "sum.fill(0)\n",
    "for i in range(len(filtered2)):\n",
    "    sum = sum + np.array([e[\"views\"] for e in filtered2[i][\"views\"]])\n",
    "sum"
   ]
  },
  {
   "cell_type": "code",
   "execution_count": 435,
   "metadata": {},
   "outputs": [],
   "source": [
    "import matplotlib.pyplot as plt"
   ]
  },
  {
   "cell_type": "code",
   "execution_count": 436,
   "metadata": {},
   "outputs": [
    {
     "data": {
      "text/plain": [
       "<matplotlib.legend.Legend at 0x20445488130>"
      ]
     },
     "execution_count": 436,
     "metadata": {},
     "output_type": "execute_result"
    },
    {
     "data": {
      "image/png": "[encoded data removed]",
      "text/plain": [
       "<Figure size 432x288 with 1 Axes>"
      ]
     },
     "metadata": {
      "needs_background": "light"
     },
     "output_type": "display_data"
    }
   ],
   "source": [
    "sum = sum/sum.max()\n",
    "plt.plot(sum, label=\"Backlinks\")\n",
    "plt.legend()\n"
   ]
  },
  {
   "cell_type": "code",
   "execution_count": 437,
   "metadata": {},
   "outputs": [
    {
     "data": {
      "text/plain": [
       "array([567, 437, 294, 113,  74,  52,  57,  76,  80,  67,  52,  55,  62,\n",
       "        57,  77, 107, 225, 134,  71,  50,  60,  63, 114,  63,  68,  65,\n",
       "        71,  67,  80,  99,  92,  69,  98,  67,  68,  95,  80,  73,  97,\n",
       "        72,  67,  77,  98,  78,  59,  53,  82,  40,  55,  66, 103,  63,\n",
       "        57,  95, 183,  61,  60,  74,  70,  66,  54,  51,  52,  64,  57,\n",
       "        46,  35,  38,  32,  50,  52,  53,  42,  67,  62,  46,  49,  85,\n",
       "        55,  47,  54,  50,  35,  77,  80,  68,  49,  47,  69,  38,  41,\n",
       "        83,  96])"
      ]
     },
     "execution_count": 437,
     "metadata": {},
     "output_type": "execute_result"
    }
   ],
   "source": [
    "base = klaus_teuber_data[\"baselink\"][\"views\"]\n",
    "base = np.array([e[\"views\"] for e in base])\n",
    "base #= base / base.max()"
   ]
  },
  {
   "cell_type": "code",
   "execution_count": 438,
   "metadata": {},
   "outputs": [
    {
     "data": {
      "text/plain": [
       "<matplotlib.legend.Legend at 0x2044369d610>"
      ]
     },
     "execution_count": 438,
     "metadata": {},
     "output_type": "execute_result"
    },
    {
     "data": {
      "image/png": "[encoded data removed]",
      "text/plain": [
       "<Figure size 432x288 with 1 Axes>"
      ]
     },
     "metadata": {
      "needs_background": "light"
     },
     "output_type": "display_data"
    }
   ],
   "source": [
    "plt.plot(base, label=\"Klaus Teuber\")\n",
    "plt.legend()"
   ]
  },
  {
   "cell_type": "code",
   "execution_count": 439,
   "metadata": {},
   "outputs": [],
   "source": [
    "filteredL = [e for e in klaus_teuber_data[\"links\"]if type(e[\"views\"]) == list]\n",
    "filteredL = [e for e in filteredL if len(e[\"views\"]) == 93]\n",
    "\n",
    "base = base / base.max()\n",
    "\n",
    "sum_link = np.array(len(filteredL[0][\"views\"]))\n",
    "sum_link.fill(0)\n",
    "for i in range(len(filteredL)):\n",
    "    sum_link = sum_link + np.array([e[\"views\"] for e in filteredL[i][\"views\"]])\n",
    "#sum_link = np.array([e[\"views\"] for e in filteredL])\n",
    "sum_link = sum_link/ sum_link.max()"
   ]
  },
  {
   "cell_type": "code",
   "execution_count": 440,
   "metadata": {},
   "outputs": [
    {
     "data": {
      "text/plain": [
       "<matplotlib.legend.Legend at 0x2043ea32730>"
      ]
     },
     "execution_count": 440,
     "metadata": {},
     "output_type": "execute_result"
    },
    {
     "data": {
      "image/png": "[encoded data removed]",
      "text/plain": [
       "<Figure size 432x288 with 1 Axes>"
      ]
     },
     "metadata": {
      "needs_background": "light"
     },
     "output_type": "display_data"
    }
   ],
   "source": [
    "plt.plot((sum_link + sum)/2,label=\"Link/Backlink Mixture\")\n",
    "plt.plot(base,label=\"Klaus Teuber\")\n",
    "plt.legend()"
   ]
  },
  {
   "cell_type": "code",
   "execution_count": 467,
   "metadata": {},
   "outputs": [],
   "source": [
    "from itertools import compress\n",
    "top50 = list(compress(filtered2,[e[\"position\"] < 50 for e in filtered2]))\n",
    "sum_top50 = np.array(len(top50))\n",
    "sum_top50.fill(0)\n",
    "for i in range(len(top50)):\n",
    "    sum_top50 = sum_top50 + np.array([e[\"views\"] for e in top50[i][\"views\"]])\n",
    "sum_top50 =  sum_top50/sum_top50.max()"
   ]
  },
  {
   "cell_type": "code",
   "execution_count": 468,
   "metadata": {},
   "outputs": [
    {
     "data": {
      "text/plain": [
       "<matplotlib.legend.Legend at 0x20444f63910>"
      ]
     },
     "execution_count": 468,
     "metadata": {},
     "output_type": "execute_result"
    },
    {
     "data": {
      "image/png": "[encoded data removed]",
      "text/plain": [
       "<Figure size 432x288 with 1 Axes>"
      ]
     },
     "metadata": {
      "needs_background": "light"
     },
     "output_type": "display_data"
    }
   ],
   "source": [
    "plt.plot(sum_top50, label=\"Top 50 Backlinks\")\n",
    "plt.plot(base, label=\"Klaus Teuber\")\n",
    "plt.legend()"
   ]
  },
  {
   "cell_type": "code",
   "execution_count": 443,
   "metadata": {},
   "outputs": [
    {
     "name": "stdout",
     "output_type": "stream",
     "text": [
      "{'name': 'Klaus Täuber', 'views': [{'date': '2023070100', 'views': 19895}, {'date': '2023070200', 'views': 23034}, {'date': '2023070300', 'views': 16997}, {'date': '2023070400', 'views': 3821}, {'date': '2023070500', 'views': 826}, {'date': '2023070600', 'views': 524}, {'date': '2023070700', 'views': 340}, {'date': '2023070800', 'views': 326}, {'date': '2023070900', 'views': 264}, {'date': '2023071000', 'views': 188}, {'date': '2023071100', 'views': 159}, {'date': '2023071200', 'views': 183}, {'date': '2023071300', 'views': 167}, {'date': '2023071400', 'views': 125}, {'date': '2023071500', 'views': 119}, {'date': '2023071600', 'views': 95}, {'date': '2023071700', 'views': 95}, {'date': '2023071800', 'views': 87}, {'date': '2023071900', 'views': 65}, {'date': '2023072000', 'views': 59}, {'date': '2023072100', 'views': 53}, {'date': '2023072200', 'views': 39}, {'date': '2023072300', 'views': 66}, {'date': '2023072400', 'views': 51}, {'date': '2023072500', 'views': 53}, {'date': '2023072600', 'views': 61}, {'date': '2023072700', 'views': 64}, {'date': '2023072800', 'views': 70}, {'date': '2023072900', 'views': 93}, {'date': '2023073000', 'views': 90}, {'date': '2023073100', 'views': 82}, {'date': '2023080100', 'views': 79}, {'date': '2023080200', 'views': 61}, {'date': '2023080300', 'views': 40}, {'date': '2023080400', 'views': 32}, {'date': '2023080500', 'views': 43}, {'date': '2023080600', 'views': 90}, {'date': '2023080700', 'views': 25}, {'date': '2023080800', 'views': 40}, {'date': '2023080900', 'views': 33}, {'date': '2023081000', 'views': 26}, {'date': '2023081100', 'views': 31}, {'date': '2023081200', 'views': 29}, {'date': '2023081300', 'views': 26}, {'date': '2023081400', 'views': 21}, {'date': '2023081500', 'views': 27}, {'date': '2023081600', 'views': 25}, {'date': '2023081700', 'views': 32}, {'date': '2023081800', 'views': 50}, {'date': '2023081900', 'views': 93}, {'date': '2023082000', 'views': 65}, {'date': '2023082100', 'views': 54}, {'date': '2023082200', 'views': 41}, {'date': '2023082300', 'views': 27}, {'date': '2023082400', 'views': 23}, {'date': '2023082500', 'views': 23}, {'date': '2023082600', 'views': 38}, {'date': '2023082700', 'views': 20}, {'date': '2023082800', 'views': 26}, {'date': '2023082900', 'views': 18}, {'date': '2023083000', 'views': 23}, {'date': '2023083100', 'views': 23}, {'date': '2023090100', 'views': 19}, {'date': '2023090200', 'views': 22}, {'date': '2023090300', 'views': 19}, {'date': '2023090400', 'views': 14}, {'date': '2023090500', 'views': 19}, {'date': '2023090600', 'views': 15}, {'date': '2023090700', 'views': 19}, {'date': '2023090800', 'views': 9}, {'date': '2023090900', 'views': 12}, {'date': '2023091000', 'views': 13}, {'date': '2023091100', 'views': 21}, {'date': '2023091200', 'views': 17}, {'date': '2023091300', 'views': 18}, {'date': '2023091400', 'views': 14}, {'date': '2023091500', 'views': 13}, {'date': '2023091600', 'views': 32}, {'date': '2023091700', 'views': 11}, {'date': '2023091800', 'views': 16}, {'date': '2023091900', 'views': 8}, {'date': '2023092000', 'views': 7}, {'date': '2023092100', 'views': 12}, {'date': '2023092200', 'views': 20}, {'date': '2023092300', 'views': 34}, {'date': '2023092400', 'views': 12}, {'date': '2023092500', 'views': 20}, {'date': '2023092600', 'views': 12}, {'date': '2023092700', 'views': 48}, {'date': '2023092800', 'views': 28}, {'date': '2023092900', 'views': 21}, {'date': '2023093000', 'views': 26}, {'date': '2023100100', 'views': 13}]}\n"
     ]
    }
   ],
   "source": [
    "link_top = filteredL[:50]\n",
    "sum_top = np.zeros(len(link_top[0][\"views\"]))\n",
    "print(link_top[0])\n",
    "for i in range(len(link_top)):\n",
    "    sum_top = sum_top + np.array([e[\"views\"] for e in link_top[i][\"views\"]])\n",
    "sum_top =  sum_top/sum_top.max()"
   ]
  },
  {
   "cell_type": "code",
   "execution_count": 444,
   "metadata": {},
   "outputs": [
    {
     "data": {
      "text/plain": [
       "<matplotlib.legend.Legend at 0x20447e97340>"
      ]
     },
     "execution_count": 444,
     "metadata": {},
     "output_type": "execute_result"
    },
    {
     "data": {
      "image/png": "[encoded data removed]",
      "text/plain": [
       "<Figure size 432x288 with 1 Axes>"
      ]
     },
     "metadata": {
      "needs_background": "light"
     },
     "output_type": "display_data"
    }
   ],
   "source": [
    "plt.plot((sum_top + sum_top50)/2, label=\"Top 50 Link/Backlink Mixture\")\n",
    "plt.plot(base,label= \"Klaus Teuber\")\n",
    "plt.legend()"
   ]
  },
  {
   "cell_type": "markdown",
   "metadata": {},
   "source": [
    "Normalize Test\n",
    "Was passiert wenn man erst normalisiert?"
   ]
  },
  {
   "cell_type": "code",
   "execution_count": 445,
   "metadata": {},
   "outputs": [
    {
     "name": "stdout",
     "output_type": "stream",
     "text": [
      "{'name': 'Klaus Täuber', 'views': [{'date': '2023070100', 'views': 19895}, {'date': '2023070200', 'views': 23034}, {'date': '2023070300', 'views': 16997}, {'date': '2023070400', 'views': 3821}, {'date': '2023070500', 'views': 826}, {'date': '2023070600', 'views': 524}, {'date': '2023070700', 'views': 340}, {'date': '2023070800', 'views': 326}, {'date': '2023070900', 'views': 264}, {'date': '2023071000', 'views': 188}, {'date': '2023071100', 'views': 159}, {'date': '2023071200', 'views': 183}, {'date': '2023071300', 'views': 167}, {'date': '2023071400', 'views': 125}, {'date': '2023071500', 'views': 119}, {'date': '2023071600', 'views': 95}, {'date': '2023071700', 'views': 95}, {'date': '2023071800', 'views': 87}, {'date': '2023071900', 'views': 65}, {'date': '2023072000', 'views': 59}, {'date': '2023072100', 'views': 53}, {'date': '2023072200', 'views': 39}, {'date': '2023072300', 'views': 66}, {'date': '2023072400', 'views': 51}, {'date': '2023072500', 'views': 53}, {'date': '2023072600', 'views': 61}, {'date': '2023072700', 'views': 64}, {'date': '2023072800', 'views': 70}, {'date': '2023072900', 'views': 93}, {'date': '2023073000', 'views': 90}, {'date': '2023073100', 'views': 82}, {'date': '2023080100', 'views': 79}, {'date': '2023080200', 'views': 61}, {'date': '2023080300', 'views': 40}, {'date': '2023080400', 'views': 32}, {'date': '2023080500', 'views': 43}, {'date': '2023080600', 'views': 90}, {'date': '2023080700', 'views': 25}, {'date': '2023080800', 'views': 40}, {'date': '2023080900', 'views': 33}, {'date': '2023081000', 'views': 26}, {'date': '2023081100', 'views': 31}, {'date': '2023081200', 'views': 29}, {'date': '2023081300', 'views': 26}, {'date': '2023081400', 'views': 21}, {'date': '2023081500', 'views': 27}, {'date': '2023081600', 'views': 25}, {'date': '2023081700', 'views': 32}, {'date': '2023081800', 'views': 50}, {'date': '2023081900', 'views': 93}, {'date': '2023082000', 'views': 65}, {'date': '2023082100', 'views': 54}, {'date': '2023082200', 'views': 41}, {'date': '2023082300', 'views': 27}, {'date': '2023082400', 'views': 23}, {'date': '2023082500', 'views': 23}, {'date': '2023082600', 'views': 38}, {'date': '2023082700', 'views': 20}, {'date': '2023082800', 'views': 26}, {'date': '2023082900', 'views': 18}, {'date': '2023083000', 'views': 23}, {'date': '2023083100', 'views': 23}, {'date': '2023090100', 'views': 19}, {'date': '2023090200', 'views': 22}, {'date': '2023090300', 'views': 19}, {'date': '2023090400', 'views': 14}, {'date': '2023090500', 'views': 19}, {'date': '2023090600', 'views': 15}, {'date': '2023090700', 'views': 19}, {'date': '2023090800', 'views': 9}, {'date': '2023090900', 'views': 12}, {'date': '2023091000', 'views': 13}, {'date': '2023091100', 'views': 21}, {'date': '2023091200', 'views': 17}, {'date': '2023091300', 'views': 18}, {'date': '2023091400', 'views': 14}, {'date': '2023091500', 'views': 13}, {'date': '2023091600', 'views': 32}, {'date': '2023091700', 'views': 11}, {'date': '2023091800', 'views': 16}, {'date': '2023091900', 'views': 8}, {'date': '2023092000', 'views': 7}, {'date': '2023092100', 'views': 12}, {'date': '2023092200', 'views': 20}, {'date': '2023092300', 'views': 34}, {'date': '2023092400', 'views': 12}, {'date': '2023092500', 'views': 20}, {'date': '2023092600', 'views': 12}, {'date': '2023092700', 'views': 48}, {'date': '2023092800', 'views': 28}, {'date': '2023092900', 'views': 21}, {'date': '2023093000', 'views': 26}, {'date': '2023100100', 'views': 13}]}\n"
     ]
    }
   ],
   "source": [
    "link_top = filteredL[:50]\n",
    "sum_top2 = np.zeros(len(link_top[0][\"views\"]))\n",
    "print(link_top[0])\n",
    "for i in range(len(link_top)):\n",
    "    temp_array = np.array([e[\"views\"] for e in link_top[i][\"views\"]])\n",
    "    temp_array = temp_array / temp_array.max()\n",
    "    sum_top2 = sum_top2 + temp_array\n",
    "sum_top2 = sum_top2 / sum_top2.max()\n"
   ]
  },
  {
   "cell_type": "code",
   "execution_count": null,
   "metadata": {},
   "outputs": [],
   "source": []
  },
  {
   "cell_type": "code",
   "execution_count": 446,
   "metadata": {},
   "outputs": [
    {
     "data": {
      "text/plain": [
       "<matplotlib.legend.Legend at 0x2043c1f0370>"
      ]
     },
     "execution_count": 446,
     "metadata": {},
     "output_type": "execute_result"
    },
    {
     "data": {
      "image/png": "[encoded data removed]",
      "text/plain": [
       "<Figure size 432x288 with 1 Axes>"
      ]
     },
     "metadata": {
      "needs_background": "light"
     },
     "output_type": "display_data"
    }
   ],
   "source": [
    "plt.plot(sum_top2,label=\"Normalized all Links\")\n",
    "plt.plot(base, label=\"Klaus Teuber\")\n",
    "plt.legend()"
   ]
  },
  {
   "cell_type": "code",
   "execution_count": 447,
   "metadata": {},
   "outputs": [
    {
     "name": "stdout",
     "output_type": "stream",
     "text": [
      "{'name': 'Die Siedler von Catan', 'position': 1, 'views': [{'date': '2023070100', 'views': 185}, {'date': '2023070200', 'views': 171}, {'date': '2023070300', 'views': 202}, {'date': '2023070400', 'views': 125}, {'date': '2023070500', 'views': 100}, {'date': '2023070600', 'views': 91}, {'date': '2023070700', 'views': 107}, {'date': '2023070800', 'views': 127}, {'date': '2023070900', 'views': 155}, {'date': '2023071000', 'views': 138}, {'date': '2023071100', 'views': 134}, {'date': '2023071200', 'views': 115}, {'date': '2023071300', 'views': 113}, {'date': '2023071400', 'views': 116}, {'date': '2023071500', 'views': 175}, {'date': '2023071600', 'views': 205}, {'date': '2023071700', 'views': 330}, {'date': '2023071800', 'views': 259}, {'date': '2023071900', 'views': 141}, {'date': '2023072000', 'views': 116}, {'date': '2023072100', 'views': 148}, {'date': '2023072200', 'views': 144}, {'date': '2023072300', 'views': 201}, {'date': '2023072400', 'views': 196}, {'date': '2023072500', 'views': 141}, {'date': '2023072600', 'views': 167}, {'date': '2023072700', 'views': 160}, {'date': '2023072800', 'views': 156}, {'date': '2023072900', 'views': 205}, {'date': '2023073000', 'views': 196}, {'date': '2023073100', 'views': 157}, {'date': '2023080100', 'views': 164}, {'date': '2023080200', 'views': 161}, {'date': '2023080300', 'views': 150}, {'date': '2023080400', 'views': 168}, {'date': '2023080500', 'views': 222}, {'date': '2023080600', 'views': 217}, {'date': '2023080700', 'views': 177}, {'date': '2023080800', 'views': 174}, {'date': '2023080900', 'views': 179}, {'date': '2023081000', 'views': 136}, {'date': '2023081100', 'views': 162}, {'date': '2023081200', 'views': 173}, {'date': '2023081300', 'views': 193}, {'date': '2023081400', 'views': 172}, {'date': '2023081500', 'views': 170}, {'date': '2023081600', 'views': 136}, {'date': '2023081700', 'views': 140}, {'date': '2023081800', 'views': 145}, {'date': '2023081900', 'views': 153}, {'date': '2023082000', 'views': 154}, {'date': '2023082100', 'views': 150}, {'date': '2023082200', 'views': 112}, {'date': '2023082300', 'views': 168}, {'date': '2023082400', 'views': 132}, {'date': '2023082500', 'views': 91}, {'date': '2023082600', 'views': 147}, {'date': '2023082700', 'views': 206}, {'date': '2023082800', 'views': 154}, {'date': '2023082900', 'views': 196}, {'date': '2023083000', 'views': 137}, {'date': '2023083100', 'views': 115}, {'date': '2023090100', 'views': 131}, {'date': '2023090200', 'views': 110}, {'date': '2023090300', 'views': 150}, {'date': '2023090400', 'views': 90}, {'date': '2023090500', 'views': 111}, {'date': '2023090600', 'views': 93}, {'date': '2023090700', 'views': 145}, {'date': '2023090800', 'views': 117}, {'date': '2023090900', 'views': 111}, {'date': '2023091000', 'views': 122}, {'date': '2023091100', 'views': 102}, {'date': '2023091200', 'views': 68}, {'date': '2023091300', 'views': 108}, {'date': '2023091400', 'views': 90}, {'date': '2023091500', 'views': 86}, {'date': '2023091600', 'views': 124}, {'date': '2023091700', 'views': 114}, {'date': '2023091800', 'views': 109}, {'date': '2023091900', 'views': 111}, {'date': '2023092000', 'views': 90}, {'date': '2023092100', 'views': 100}, {'date': '2023092200', 'views': 105}, {'date': '2023092300', 'views': 169}, {'date': '2023092400', 'views': 154}, {'date': '2023092500', 'views': 104}, {'date': '2023092600', 'views': 106}, {'date': '2023092700', 'views': 116}, {'date': '2023092800', 'views': 91}, {'date': '2023092900', 'views': 140}, {'date': '2023093000', 'views': 147}, {'date': '2023100100', 'views': 175}]}\n"
     ]
    }
   ],
   "source": [
    "link_top = list(compress(filtered2,[e[\"position\"] < 50 for e in filtered2]))\n",
    "sum_topB = np.zeros(len(link_top[0][\"views\"]))\n",
    "print(link_top[0])\n",
    "for i in range(len(link_top)):\n",
    "    temp_array = np.array([e[\"views\"] for e in link_top[i][\"views\"]])\n",
    "    temp_array = temp_array / temp_array.max()\n",
    "    sum_topB = sum_topB + temp_array\n",
    "sum_topB = sum_topB / sum_topB.max()"
   ]
  },
  {
   "cell_type": "code",
   "execution_count": 448,
   "metadata": {},
   "outputs": [
    {
     "data": {
      "text/plain": [
       "[<matplotlib.lines.Line2D at 0x2043cedcb20>]"
      ]
     },
     "execution_count": 448,
     "metadata": {},
     "output_type": "execute_result"
    },
    {
     "data": {
      "image/png": "[encoded data removed]",
      "text/plain": [
       "<Figure size 432x288 with 1 Axes>"
      ]
     },
     "metadata": {
      "needs_background": "light"
     },
     "output_type": "display_data"
    }
   ],
   "source": [
    "plt.plot((sum_topB +sum_top2) / 2,label=\"Mixture Backlinks/Links Normalized\")\n",
    "plt.plot(base,label=\"Klaus Teuber\")"
   ]
  },
  {
   "cell_type": "code",
   "execution_count": 469,
   "metadata": {},
   "outputs": [
    {
     "data": {
      "text/plain": [
       "[{'name': 'Drunter & Drüber',\n",
       "  'position': 0,\n",
       "  'views': [{'date': '2023070100', 'views': 17},\n",
       "   {'date': '2023070200', 'views': 5},\n",
       "   {'date': '2023070300', 'views': 11},\n",
       "   {'date': '2023070400', 'views': 4},\n",
       "   {'date': '2023070500', 'views': 3},\n",
       "   {'date': '2023070600', 'views': 8},\n",
       "   {'date': '2023070700', 'views': 5},\n",
       "   {'date': '2023070800', 'views': 8},\n",
       "   {'date': '2023070900', 'views': 6},\n",
       "   {'date': '2023071000', 'views': 6},\n",
       "   {'date': '2023071100', 'views': 5},\n",
       "   {'date': '2023071200', 'views': 5},\n",
       "   {'date': '2023071300', 'views': 3},\n",
       "   {'date': '2023071400', 'views': 12},\n",
       "   {'date': '2023071500', 'views': 6},\n",
       "   {'date': '2023071600', 'views': 8},\n",
       "   {'date': '2023071700', 'views': 34},\n",
       "   {'date': '2023071800', 'views': 31},\n",
       "   {'date': '2023071900', 'views': 8},\n",
       "   {'date': '2023072000', 'views': 3},\n",
       "   {'date': '2023072100', 'views': 9},\n",
       "   {'date': '2023072200', 'views': 13},\n",
       "   {'date': '2023072300', 'views': 12},\n",
       "   {'date': '2023072400', 'views': 9},\n",
       "   {'date': '2023072500', 'views': 10},\n",
       "   {'date': '2023072600', 'views': 6},\n",
       "   {'date': '2023072700', 'views': 9},\n",
       "   {'date': '2023072800', 'views': 10},\n",
       "   {'date': '2023072900', 'views': 11},\n",
       "   {'date': '2023073000', 'views': 7},\n",
       "   {'date': '2023073100', 'views': 9},\n",
       "   {'date': '2023080100', 'views': 12},\n",
       "   {'date': '2023080200', 'views': 4},\n",
       "   {'date': '2023080300', 'views': 12},\n",
       "   {'date': '2023080400', 'views': 7},\n",
       "   {'date': '2023080500', 'views': 10},\n",
       "   {'date': '2023080600', 'views': 8},\n",
       "   {'date': '2023080700', 'views': 7},\n",
       "   {'date': '2023080800', 'views': 9},\n",
       "   {'date': '2023080900', 'views': 8},\n",
       "   {'date': '2023081000', 'views': 5},\n",
       "   {'date': '2023081100', 'views': 8},\n",
       "   {'date': '2023081200', 'views': 12},\n",
       "   {'date': '2023081300', 'views': 6},\n",
       "   {'date': '2023081400', 'views': 9},\n",
       "   {'date': '2023081500', 'views': 9},\n",
       "   {'date': '2023081600', 'views': 3},\n",
       "   {'date': '2023081700', 'views': 7},\n",
       "   {'date': '2023081800', 'views': 4},\n",
       "   {'date': '2023081900', 'views': 4},\n",
       "   {'date': '2023082000', 'views': 7},\n",
       "   {'date': '2023082100', 'views': 21},\n",
       "   {'date': '2023082200', 'views': 18},\n",
       "   {'date': '2023082300', 'views': 29},\n",
       "   {'date': '2023082400', 'views': 15},\n",
       "   {'date': '2023082500', 'views': 6},\n",
       "   {'date': '2023082600', 'views': 7},\n",
       "   {'date': '2023082700', 'views': 7},\n",
       "   {'date': '2023082800', 'views': 8},\n",
       "   {'date': '2023082900', 'views': 6},\n",
       "   {'date': '2023083000', 'views': 6},\n",
       "   {'date': '2023083100', 'views': 4},\n",
       "   {'date': '2023090100', 'views': 9},\n",
       "   {'date': '2023090200', 'views': 10},\n",
       "   {'date': '2023090300', 'views': 8},\n",
       "   {'date': '2023090400', 'views': 2},\n",
       "   {'date': '2023090500', 'views': 4},\n",
       "   {'date': '2023090600', 'views': 8},\n",
       "   {'date': '2023090700', 'views': 8},\n",
       "   {'date': '2023090800', 'views': 7},\n",
       "   {'date': '2023090900', 'views': 4},\n",
       "   {'date': '2023091000', 'views': 4},\n",
       "   {'date': '2023091100', 'views': 12},\n",
       "   {'date': '2023091200', 'views': 7},\n",
       "   {'date': '2023091300', 'views': 10},\n",
       "   {'date': '2023091400', 'views': 6},\n",
       "   {'date': '2023091500', 'views': 6},\n",
       "   {'date': '2023091600', 'views': 14},\n",
       "   {'date': '2023091700', 'views': 9},\n",
       "   {'date': '2023091800', 'views': 6},\n",
       "   {'date': '2023091900', 'views': 3},\n",
       "   {'date': '2023092000', 'views': 6},\n",
       "   {'date': '2023092100', 'views': 1},\n",
       "   {'date': '2023092200', 'views': 5},\n",
       "   {'date': '2023092300', 'views': 5},\n",
       "   {'date': '2023092400', 'views': 10},\n",
       "   {'date': '2023092500', 'views': 8},\n",
       "   {'date': '2023092600', 'views': 5},\n",
       "   {'date': '2023092700', 'views': 4},\n",
       "   {'date': '2023092800', 'views': 6},\n",
       "   {'date': '2023092900', 'views': 6},\n",
       "   {'date': '2023093000', 'views': 10},\n",
       "   {'date': '2023100100', 'views': 6}]},\n",
       " {'name': 'Klaus Täuber',\n",
       "  'position': 0,\n",
       "  'views': [{'date': '2023070100', 'views': 19895},\n",
       "   {'date': '2023070200', 'views': 23034},\n",
       "   {'date': '2023070300', 'views': 16997},\n",
       "   {'date': '2023070400', 'views': 3821},\n",
       "   {'date': '2023070500', 'views': 826},\n",
       "   {'date': '2023070600', 'views': 524},\n",
       "   {'date': '2023070700', 'views': 340},\n",
       "   {'date': '2023070800', 'views': 326},\n",
       "   {'date': '2023070900', 'views': 264},\n",
       "   {'date': '2023071000', 'views': 188},\n",
       "   {'date': '2023071100', 'views': 159},\n",
       "   {'date': '2023071200', 'views': 183},\n",
       "   {'date': '2023071300', 'views': 167},\n",
       "   {'date': '2023071400', 'views': 125},\n",
       "   {'date': '2023071500', 'views': 119},\n",
       "   {'date': '2023071600', 'views': 95},\n",
       "   {'date': '2023071700', 'views': 95},\n",
       "   {'date': '2023071800', 'views': 87},\n",
       "   {'date': '2023071900', 'views': 65},\n",
       "   {'date': '2023072000', 'views': 59},\n",
       "   {'date': '2023072100', 'views': 53},\n",
       "   {'date': '2023072200', 'views': 39},\n",
       "   {'date': '2023072300', 'views': 66},\n",
       "   {'date': '2023072400', 'views': 51},\n",
       "   {'date': '2023072500', 'views': 53},\n",
       "   {'date': '2023072600', 'views': 61},\n",
       "   {'date': '2023072700', 'views': 64},\n",
       "   {'date': '2023072800', 'views': 70},\n",
       "   {'date': '2023072900', 'views': 93},\n",
       "   {'date': '2023073000', 'views': 90},\n",
       "   {'date': '2023073100', 'views': 82},\n",
       "   {'date': '2023080100', 'views': 79},\n",
       "   {'date': '2023080200', 'views': 61},\n",
       "   {'date': '2023080300', 'views': 40},\n",
       "   {'date': '2023080400', 'views': 32},\n",
       "   {'date': '2023080500', 'views': 43},\n",
       "   {'date': '2023080600', 'views': 90},\n",
       "   {'date': '2023080700', 'views': 25},\n",
       "   {'date': '2023080800', 'views': 40},\n",
       "   {'date': '2023080900', 'views': 33},\n",
       "   {'date': '2023081000', 'views': 26},\n",
       "   {'date': '2023081100', 'views': 31},\n",
       "   {'date': '2023081200', 'views': 29},\n",
       "   {'date': '2023081300', 'views': 26},\n",
       "   {'date': '2023081400', 'views': 21},\n",
       "   {'date': '2023081500', 'views': 27},\n",
       "   {'date': '2023081600', 'views': 25},\n",
       "   {'date': '2023081700', 'views': 32},\n",
       "   {'date': '2023081800', 'views': 50},\n",
       "   {'date': '2023081900', 'views': 93},\n",
       "   {'date': '2023082000', 'views': 65},\n",
       "   {'date': '2023082100', 'views': 54},\n",
       "   {'date': '2023082200', 'views': 41},\n",
       "   {'date': '2023082300', 'views': 27},\n",
       "   {'date': '2023082400', 'views': 23},\n",
       "   {'date': '2023082500', 'views': 23},\n",
       "   {'date': '2023082600', 'views': 38},\n",
       "   {'date': '2023082700', 'views': 20},\n",
       "   {'date': '2023082800', 'views': 26},\n",
       "   {'date': '2023082900', 'views': 18},\n",
       "   {'date': '2023083000', 'views': 23},\n",
       "   {'date': '2023083100', 'views': 23},\n",
       "   {'date': '2023090100', 'views': 19},\n",
       "   {'date': '2023090200', 'views': 22},\n",
       "   {'date': '2023090300', 'views': 19},\n",
       "   {'date': '2023090400', 'views': 14},\n",
       "   {'date': '2023090500', 'views': 19},\n",
       "   {'date': '2023090600', 'views': 15},\n",
       "   {'date': '2023090700', 'views': 19},\n",
       "   {'date': '2023090800', 'views': 9},\n",
       "   {'date': '2023090900', 'views': 12},\n",
       "   {'date': '2023091000', 'views': 13},\n",
       "   {'date': '2023091100', 'views': 21},\n",
       "   {'date': '2023091200', 'views': 17},\n",
       "   {'date': '2023091300', 'views': 18},\n",
       "   {'date': '2023091400', 'views': 14},\n",
       "   {'date': '2023091500', 'views': 13},\n",
       "   {'date': '2023091600', 'views': 32},\n",
       "   {'date': '2023091700', 'views': 11},\n",
       "   {'date': '2023091800', 'views': 16},\n",
       "   {'date': '2023091900', 'views': 8},\n",
       "   {'date': '2023092000', 'views': 7},\n",
       "   {'date': '2023092100', 'views': 12},\n",
       "   {'date': '2023092200', 'views': 20},\n",
       "   {'date': '2023092300', 'views': 34},\n",
       "   {'date': '2023092400', 'views': 12},\n",
       "   {'date': '2023092500', 'views': 20},\n",
       "   {'date': '2023092600', 'views': 12},\n",
       "   {'date': '2023092700', 'views': 48},\n",
       "   {'date': '2023092800', 'views': 28},\n",
       "   {'date': '2023092900', 'views': 21},\n",
       "   {'date': '2023093000', 'views': 26},\n",
       "   {'date': '2023100100', 'views': 13}]},\n",
       " {'name': 'Anno 1503 (Brettspiel)',\n",
       "  'position': 0,\n",
       "  'views': [{'date': '2023070100', 'views': 4},\n",
       "   {'date': '2023070200', 'views': 5},\n",
       "   {'date': '2023070300', 'views': 8},\n",
       "   {'date': '2023070400', 'views': 4},\n",
       "   {'date': '2023070500', 'views': 6},\n",
       "   {'date': '2023070600', 'views': 3},\n",
       "   {'date': '2023070700', 'views': 2},\n",
       "   {'date': '2023070800', 'views': 5},\n",
       "   {'date': '2023070900', 'views': 7},\n",
       "   {'date': '2023071000', 'views': 3},\n",
       "   {'date': '2023071100', 'views': 2},\n",
       "   {'date': '2023071200', 'views': 3},\n",
       "   {'date': '2023071300', 'views': 3},\n",
       "   {'date': '2023071400', 'views': 3},\n",
       "   {'date': '2023071500', 'views': 9},\n",
       "   {'date': '2023071600', 'views': 3},\n",
       "   {'date': '2023071700', 'views': 9},\n",
       "   {'date': '2023071800', 'views': 7},\n",
       "   {'date': '2023071900', 'views': 1},\n",
       "   {'date': '2023072000', 'views': 5},\n",
       "   {'date': '2023072100', 'views': 3},\n",
       "   {'date': '2023072200', 'views': 1},\n",
       "   {'date': '2023072300', 'views': 5},\n",
       "   {'date': '2023072400', 'views': 5},\n",
       "   {'date': '2023072500', 'views': 2},\n",
       "   {'date': '2023072600', 'views': 3},\n",
       "   {'date': '2023072700', 'views': 4},\n",
       "   {'date': '2023072800', 'views': 2},\n",
       "   {'date': '2023072900', 'views': 9},\n",
       "   {'date': '2023073000', 'views': 6},\n",
       "   {'date': '2023073100', 'views': 1},\n",
       "   {'date': '2023080100', 'views': 4},\n",
       "   {'date': '2023080200', 'views': 3},\n",
       "   {'date': '2023080300', 'views': 4},\n",
       "   {'date': '2023080400', 'views': 5},\n",
       "   {'date': '2023080500', 'views': 2},\n",
       "   {'date': '2023080600', 'views': 3},\n",
       "   {'date': '2023080700', 'views': 7},\n",
       "   {'date': '2023080800', 'views': 7},\n",
       "   {'date': '2023080900', 'views': 4},\n",
       "   {'date': '2023081000', 'views': 4},\n",
       "   {'date': '2023081100', 'views': 6},\n",
       "   {'date': '2023081200', 'views': 3},\n",
       "   {'date': '2023081300', 'views': 6},\n",
       "   {'date': '2023081400', 'views': 6},\n",
       "   {'date': '2023081500', 'views': 6},\n",
       "   {'date': '2023081600', 'views': 4},\n",
       "   {'date': '2023081700', 'views': 2},\n",
       "   {'date': '2023081800', 'views': 5},\n",
       "   {'date': '2023081900', 'views': 2},\n",
       "   {'date': '2023082000', 'views': 12},\n",
       "   {'date': '2023082100', 'views': 9},\n",
       "   {'date': '2023082200', 'views': 9},\n",
       "   {'date': '2023082300', 'views': 10},\n",
       "   {'date': '2023082400', 'views': 7},\n",
       "   {'date': '2023082500', 'views': 6},\n",
       "   {'date': '2023082600', 'views': 3},\n",
       "   {'date': '2023082700', 'views': 8},\n",
       "   {'date': '2023082800', 'views': 7},\n",
       "   {'date': '2023082900', 'views': 3},\n",
       "   {'date': '2023083000', 'views': 2},\n",
       "   {'date': '2023083100', 'views': 4},\n",
       "   {'date': '2023090100', 'views': 6},\n",
       "   {'date': '2023090200', 'views': 7},\n",
       "   {'date': '2023090300', 'views': 5},\n",
       "   {'date': '2023090400', 'views': 10},\n",
       "   {'date': '2023090500', 'views': 3},\n",
       "   {'date': '2023090600', 'views': 5},\n",
       "   {'date': '2023090700', 'views': 3},\n",
       "   {'date': '2023090800', 'views': 3},\n",
       "   {'date': '2023090900', 'views': 8},\n",
       "   {'date': '2023091000', 'views': 7},\n",
       "   {'date': '2023091100', 'views': 4},\n",
       "   {'date': '2023091200', 'views': 3},\n",
       "   {'date': '2023091300', 'views': 3},\n",
       "   {'date': '2023091400', 'views': 4},\n",
       "   {'date': '2023091500', 'views': 4},\n",
       "   {'date': '2023091600', 'views': 3},\n",
       "   {'date': '2023091700', 'views': 3},\n",
       "   {'date': '2023091800', 'views': 2},\n",
       "   {'date': '2023091900', 'views': 3},\n",
       "   {'date': '2023092000', 'views': 2},\n",
       "   {'date': '2023092100', 'views': 1},\n",
       "   {'date': '2023092200', 'views': 6},\n",
       "   {'date': '2023092300', 'views': 2},\n",
       "   {'date': '2023092400', 'views': 13},\n",
       "   {'date': '2023092500', 'views': 3},\n",
       "   {'date': '2023092600', 'views': 1},\n",
       "   {'date': '2023092700', 'views': 2},\n",
       "   {'date': '2023092800', 'views': 1},\n",
       "   {'date': '2023092900', 'views': 2},\n",
       "   {'date': '2023093000', 'views': 2},\n",
       "   {'date': '2023100100', 'views': 8}]},\n",
       " {'name': 'Entdecker (Spiel)',\n",
       "  'position': 0,\n",
       "  'views': [{'date': '2023070100', 'views': 4},\n",
       "   {'date': '2023070200', 'views': 2},\n",
       "   {'date': '2023070300', 'views': 5},\n",
       "   {'date': '2023070400', 'views': 4},\n",
       "   {'date': '2023070500', 'views': 0},\n",
       "   {'date': '2023070600', 'views': 3},\n",
       "   {'date': '2023070700', 'views': 1},\n",
       "   {'date': '2023070800', 'views': 2},\n",
       "   {'date': '2023070900', 'views': 0},\n",
       "   {'date': '2023071000', 'views': 2},\n",
       "   {'date': '2023071100', 'views': 1},\n",
       "   {'date': '2023071200', 'views': 2},\n",
       "   {'date': '2023071300', 'views': 0},\n",
       "   {'date': '2023071400', 'views': 2},\n",
       "   {'date': '2023071500', 'views': 3},\n",
       "   {'date': '2023071600', 'views': 5},\n",
       "   {'date': '2023071700', 'views': 7},\n",
       "   {'date': '2023071800', 'views': 0},\n",
       "   {'date': '2023071900', 'views': 5},\n",
       "   {'date': '2023072000', 'views': 0},\n",
       "   {'date': '2023072100', 'views': 1},\n",
       "   {'date': '2023072200', 'views': 1},\n",
       "   {'date': '2023072300', 'views': 1},\n",
       "   {'date': '2023072400', 'views': 2},\n",
       "   {'date': '2023072500', 'views': 2},\n",
       "   {'date': '2023072600', 'views': 0},\n",
       "   {'date': '2023072700', 'views': 2},\n",
       "   {'date': '2023072800', 'views': 1},\n",
       "   {'date': '2023072900', 'views': 2},\n",
       "   {'date': '2023073000', 'views': 6},\n",
       "   {'date': '2023073100', 'views': 3},\n",
       "   {'date': '2023080100', 'views': 10},\n",
       "   {'date': '2023080200', 'views': 4},\n",
       "   {'date': '2023080300', 'views': 3},\n",
       "   {'date': '2023080400', 'views': 2},\n",
       "   {'date': '2023080500', 'views': 4},\n",
       "   {'date': '2023080600', 'views': 3},\n",
       "   {'date': '2023080700', 'views': 4},\n",
       "   {'date': '2023080800', 'views': 3},\n",
       "   {'date': '2023080900', 'views': 0},\n",
       "   {'date': '2023081000', 'views': 3},\n",
       "   {'date': '2023081100', 'views': 3},\n",
       "   {'date': '2023081200', 'views': 6},\n",
       "   {'date': '2023081300', 'views': 6},\n",
       "   {'date': '2023081400', 'views': 5},\n",
       "   {'date': '2023081500', 'views': 1},\n",
       "   {'date': '2023081600', 'views': 4},\n",
       "   {'date': '2023081700', 'views': 4},\n",
       "   {'date': '2023081800', 'views': 1},\n",
       "   {'date': '2023081900', 'views': 2},\n",
       "   {'date': '2023082000', 'views': 2},\n",
       "   {'date': '2023082100', 'views': 2},\n",
       "   {'date': '2023082200', 'views': 0},\n",
       "   {'date': '2023082300', 'views': 7},\n",
       "   {'date': '2023082400', 'views': 3},\n",
       "   {'date': '2023082500', 'views': 2},\n",
       "   {'date': '2023082600', 'views': 0},\n",
       "   {'date': '2023082700', 'views': 3},\n",
       "   {'date': '2023082800', 'views': 2},\n",
       "   {'date': '2023082900', 'views': 4},\n",
       "   {'date': '2023083000', 'views': 2},\n",
       "   {'date': '2023083100', 'views': 4},\n",
       "   {'date': '2023090100', 'views': 1},\n",
       "   {'date': '2023090200', 'views': 8},\n",
       "   {'date': '2023090300', 'views': 0},\n",
       "   {'date': '2023090400', 'views': 4},\n",
       "   {'date': '2023090500', 'views': 0},\n",
       "   {'date': '2023090600', 'views': 2},\n",
       "   {'date': '2023090700', 'views': 4},\n",
       "   {'date': '2023090800', 'views': 2},\n",
       "   {'date': '2023090900', 'views': 1},\n",
       "   {'date': '2023091000', 'views': 2},\n",
       "   {'date': '2023091100', 'views': 3},\n",
       "   {'date': '2023091200', 'views': 2},\n",
       "   {'date': '2023091300', 'views': 4},\n",
       "   {'date': '2023091400', 'views': 1},\n",
       "   {'date': '2023091500', 'views': 2},\n",
       "   {'date': '2023091600', 'views': 8},\n",
       "   {'date': '2023091700', 'views': 8},\n",
       "   {'date': '2023091800', 'views': 5},\n",
       "   {'date': '2023091900', 'views': 2},\n",
       "   {'date': '2023092000', 'views': 3},\n",
       "   {'date': '2023092100', 'views': 6},\n",
       "   {'date': '2023092200', 'views': 1},\n",
       "   {'date': '2023092300', 'views': 1},\n",
       "   {'date': '2023092400', 'views': 3},\n",
       "   {'date': '2023092500', 'views': 4},\n",
       "   {'date': '2023092600', 'views': 4},\n",
       "   {'date': '2023092700', 'views': 1},\n",
       "   {'date': '2023092800', 'views': 6},\n",
       "   {'date': '2023092900', 'views': 1},\n",
       "   {'date': '2023093000', 'views': 3},\n",
       "   {'date': '2023100100', 'views': 5}]},\n",
       " {'name': 'Catan – Das Duell',\n",
       "  'position': 0,\n",
       "  'views': [{'date': '2023070100', 'views': 13},\n",
       "   {'date': '2023070200', 'views': 22},\n",
       "   {'date': '2023070300', 'views': 15},\n",
       "   {'date': '2023070400', 'views': 8},\n",
       "   {'date': '2023070500', 'views': 15},\n",
       "   {'date': '2023070600', 'views': 7},\n",
       "   {'date': '2023070700', 'views': 13},\n",
       "   {'date': '2023070800', 'views': 9},\n",
       "   {'date': '2023070900', 'views': 9},\n",
       "   {'date': '2023071000', 'views': 13},\n",
       "   {'date': '2023071100', 'views': 8},\n",
       "   {'date': '2023071200', 'views': 8},\n",
       "   {'date': '2023071300', 'views': 13},\n",
       "   {'date': '2023071400', 'views': 12},\n",
       "   {'date': '2023071500', 'views': 9},\n",
       "   {'date': '2023071600', 'views': 17},\n",
       "   {'date': '2023071700', 'views': 12},\n",
       "   {'date': '2023071800', 'views': 8},\n",
       "   {'date': '2023071900', 'views': 9},\n",
       "   {'date': '2023072000', 'views': 15},\n",
       "   {'date': '2023072100', 'views': 12},\n",
       "   {'date': '2023072200', 'views': 7},\n",
       "   {'date': '2023072300', 'views': 14},\n",
       "   {'date': '2023072400', 'views': 12},\n",
       "   {'date': '2023072500', 'views': 10},\n",
       "   {'date': '2023072600', 'views': 15},\n",
       "   {'date': '2023072700', 'views': 35},\n",
       "   {'date': '2023072800', 'views': 15},\n",
       "   {'date': '2023072900', 'views': 7},\n",
       "   {'date': '2023073000', 'views': 21},\n",
       "   {'date': '2023073100', 'views': 12},\n",
       "   {'date': '2023080100', 'views': 22},\n",
       "   {'date': '2023080200', 'views': 11},\n",
       "   {'date': '2023080300', 'views': 16},\n",
       "   {'date': '2023080400', 'views': 7},\n",
       "   {'date': '2023080500', 'views': 6},\n",
       "   {'date': '2023080600', 'views': 16},\n",
       "   {'date': '2023080700', 'views': 25},\n",
       "   {'date': '2023080800', 'views': 20},\n",
       "   {'date': '2023080900', 'views': 8},\n",
       "   {'date': '2023081000', 'views': 14},\n",
       "   {'date': '2023081100', 'views': 13},\n",
       "   {'date': '2023081200', 'views': 13},\n",
       "   {'date': '2023081300', 'views': 13},\n",
       "   {'date': '2023081400', 'views': 23},\n",
       "   {'date': '2023081500', 'views': 13},\n",
       "   {'date': '2023081600', 'views': 18},\n",
       "   {'date': '2023081700', 'views': 9},\n",
       "   {'date': '2023081800', 'views': 9},\n",
       "   {'date': '2023081900', 'views': 8},\n",
       "   {'date': '2023082000', 'views': 8},\n",
       "   {'date': '2023082100', 'views': 9},\n",
       "   {'date': '2023082200', 'views': 21},\n",
       "   {'date': '2023082300', 'views': 18},\n",
       "   {'date': '2023082400', 'views': 18},\n",
       "   {'date': '2023082500', 'views': 19},\n",
       "   {'date': '2023082600', 'views': 12},\n",
       "   {'date': '2023082700', 'views': 16},\n",
       "   {'date': '2023082800', 'views': 27},\n",
       "   {'date': '2023082900', 'views': 11},\n",
       "   {'date': '2023083000', 'views': 10},\n",
       "   {'date': '2023083100', 'views': 10},\n",
       "   {'date': '2023090100', 'views': 7},\n",
       "   {'date': '2023090200', 'views': 10},\n",
       "   {'date': '2023090300', 'views': 15},\n",
       "   {'date': '2023090400', 'views': 8},\n",
       "   {'date': '2023090500', 'views': 7},\n",
       "   {'date': '2023090600', 'views': 10},\n",
       "   {'date': '2023090700', 'views': 7},\n",
       "   {'date': '2023090800', 'views': 7},\n",
       "   {'date': '2023090900', 'views': 14},\n",
       "   {'date': '2023091000', 'views': 22},\n",
       "   {'date': '2023091100', 'views': 15},\n",
       "   {'date': '2023091200', 'views': 4},\n",
       "   {'date': '2023091300', 'views': 7},\n",
       "   {'date': '2023091400', 'views': 19},\n",
       "   {'date': '2023091500', 'views': 10},\n",
       "   {'date': '2023091600', 'views': 15},\n",
       "   {'date': '2023091700', 'views': 37},\n",
       "   {'date': '2023091800', 'views': 10},\n",
       "   {'date': '2023091900', 'views': 9},\n",
       "   {'date': '2023092000', 'views': 11},\n",
       "   {'date': '2023092100', 'views': 7},\n",
       "   {'date': '2023092200', 'views': 11},\n",
       "   {'date': '2023092300', 'views': 12},\n",
       "   {'date': '2023092400', 'views': 11},\n",
       "   {'date': '2023092500', 'views': 8},\n",
       "   {'date': '2023092600', 'views': 14},\n",
       "   {'date': '2023092700', 'views': 5},\n",
       "   {'date': '2023092800', 'views': 6},\n",
       "   {'date': '2023092900', 'views': 13},\n",
       "   {'date': '2023093000', 'views': 12},\n",
       "   {'date': '2023100100', 'views': 5}]},\n",
       " {'name': 'CATAN – Seefahrer-Erweiterung',\n",
       "  'position': 0,\n",
       "  'views': [{'date': '2023070100', 'views': 7},\n",
       "   {'date': '2023070200', 'views': 8},\n",
       "   {'date': '2023070300', 'views': 14},\n",
       "   {'date': '2023070400', 'views': 4},\n",
       "   {'date': '2023070500', 'views': 6},\n",
       "   {'date': '2023070600', 'views': 5},\n",
       "   {'date': '2023070700', 'views': 3},\n",
       "   {'date': '2023070800', 'views': 4},\n",
       "   {'date': '2023070900', 'views': 12},\n",
       "   {'date': '2023071000', 'views': 6},\n",
       "   {'date': '2023071100', 'views': 11},\n",
       "   {'date': '2023071200', 'views': 8},\n",
       "   {'date': '2023071300', 'views': 9},\n",
       "   {'date': '2023071400', 'views': 18},\n",
       "   {'date': '2023071500', 'views': 3},\n",
       "   {'date': '2023071600', 'views': 18},\n",
       "   {'date': '2023071700', 'views': 7},\n",
       "   {'date': '2023071800', 'views': 11},\n",
       "   {'date': '2023071900', 'views': 11},\n",
       "   {'date': '2023072000', 'views': 10},\n",
       "   {'date': '2023072100', 'views': 8},\n",
       "   {'date': '2023072200', 'views': 11},\n",
       "   {'date': '2023072300', 'views': 11},\n",
       "   {'date': '2023072400', 'views': 12},\n",
       "   {'date': '2023072500', 'views': 13},\n",
       "   {'date': '2023072600', 'views': 13},\n",
       "   {'date': '2023072700', 'views': 9},\n",
       "   {'date': '2023072800', 'views': 9},\n",
       "   {'date': '2023072900', 'views': 14},\n",
       "   {'date': '2023073000', 'views': 28},\n",
       "   {'date': '2023073100', 'views': 8},\n",
       "   {'date': '2023080100', 'views': 12},\n",
       "   {'date': '2023080200', 'views': 8},\n",
       "   {'date': '2023080300', 'views': 4},\n",
       "   {'date': '2023080400', 'views': 17},\n",
       "   {'date': '2023080500', 'views': 11},\n",
       "   {'date': '2023080600', 'views': 19},\n",
       "   {'date': '2023080700', 'views': 14},\n",
       "   {'date': '2023080800', 'views': 16},\n",
       "   {'date': '2023080900', 'views': 11},\n",
       "   {'date': '2023081000', 'views': 14},\n",
       "   {'date': '2023081100', 'views': 7},\n",
       "   {'date': '2023081200', 'views': 13},\n",
       "   {'date': '2023081300', 'views': 13},\n",
       "   {'date': '2023081400', 'views': 6},\n",
       "   {'date': '2023081500', 'views': 10},\n",
       "   {'date': '2023081600', 'views': 10},\n",
       "   {'date': '2023081700', 'views': 3},\n",
       "   {'date': '2023081800', 'views': 8},\n",
       "   {'date': '2023081900', 'views': 6},\n",
       "   {'date': '2023082000', 'views': 12},\n",
       "   {'date': '2023082100', 'views': 16},\n",
       "   {'date': '2023082200', 'views': 13},\n",
       "   {'date': '2023082300', 'views': 21},\n",
       "   {'date': '2023082400', 'views': 13},\n",
       "   {'date': '2023082500', 'views': 14},\n",
       "   {'date': '2023082600', 'views': 12},\n",
       "   {'date': '2023082700', 'views': 19},\n",
       "   {'date': '2023082800', 'views': 15},\n",
       "   {'date': '2023082900', 'views': 14},\n",
       "   {'date': '2023083000', 'views': 6},\n",
       "   {'date': '2023083100', 'views': 4},\n",
       "   {'date': '2023090100', 'views': 9},\n",
       "   {'date': '2023090200', 'views': 7},\n",
       "   {'date': '2023090300', 'views': 17},\n",
       "   {'date': '2023090400', 'views': 11},\n",
       "   {'date': '2023090500', 'views': 3},\n",
       "   {'date': '2023090600', 'views': 7},\n",
       "   {'date': '2023090700', 'views': 8},\n",
       "   {'date': '2023090800', 'views': 9},\n",
       "   {'date': '2023090900', 'views': 7},\n",
       "   {'date': '2023091000', 'views': 6},\n",
       "   {'date': '2023091100', 'views': 7},\n",
       "   {'date': '2023091200', 'views': 9},\n",
       "   {'date': '2023091300', 'views': 13},\n",
       "   {'date': '2023091400', 'views': 6},\n",
       "   {'date': '2023091500', 'views': 12},\n",
       "   {'date': '2023091600', 'views': 6},\n",
       "   {'date': '2023091700', 'views': 12},\n",
       "   {'date': '2023091800', 'views': 7},\n",
       "   {'date': '2023091900', 'views': 9},\n",
       "   {'date': '2023092000', 'views': 10},\n",
       "   {'date': '2023092100', 'views': 1},\n",
       "   {'date': '2023092200', 'views': 5},\n",
       "   {'date': '2023092300', 'views': 11},\n",
       "   {'date': '2023092400', 'views': 9},\n",
       "   {'date': '2023092500', 'views': 9},\n",
       "   {'date': '2023092600', 'views': 7},\n",
       "   {'date': '2023092700', 'views': 6},\n",
       "   {'date': '2023092800', 'views': 7},\n",
       "   {'date': '2023092900', 'views': 3},\n",
       "   {'date': '2023093000', 'views': 4},\n",
       "   {'date': '2023100100', 'views': 19}]},\n",
       " {'name': 'CATAN – Städte & Ritter',\n",
       "  'position': 0,\n",
       "  'views': [{'date': '2023070100', 'views': 14},\n",
       "   {'date': '2023070200', 'views': 13},\n",
       "   {'date': '2023070300', 'views': 14},\n",
       "   {'date': '2023070400', 'views': 3},\n",
       "   {'date': '2023070500', 'views': 3},\n",
       "   {'date': '2023070600', 'views': 6},\n",
       "   {'date': '2023070700', 'views': 1},\n",
       "   {'date': '2023070800', 'views': 6},\n",
       "   {'date': '2023070900', 'views': 4},\n",
       "   {'date': '2023071000', 'views': 8},\n",
       "   {'date': '2023071100', 'views': 8},\n",
       "   {'date': '2023071200', 'views': 13},\n",
       "   {'date': '2023071300', 'views': 6},\n",
       "   {'date': '2023071400', 'views': 18},\n",
       "   {'date': '2023071500', 'views': 5},\n",
       "   {'date': '2023071600', 'views': 18},\n",
       "   {'date': '2023071700', 'views': 17},\n",
       "   {'date': '2023071800', 'views': 17},\n",
       "   {'date': '2023071900', 'views': 2},\n",
       "   {'date': '2023072000', 'views': 12},\n",
       "   {'date': '2023072100', 'views': 10},\n",
       "   {'date': '2023072200', 'views': 6},\n",
       "   {'date': '2023072300', 'views': 4},\n",
       "   {'date': '2023072400', 'views': 8},\n",
       "   {'date': '2023072500', 'views': 7},\n",
       "   {'date': '2023072600', 'views': 10},\n",
       "   {'date': '2023072700', 'views': 10},\n",
       "   {'date': '2023072800', 'views': 3},\n",
       "   {'date': '2023072900', 'views': 1},\n",
       "   {'date': '2023073000', 'views': 13},\n",
       "   {'date': '2023073100', 'views': 14},\n",
       "   {'date': '2023080100', 'views': 11},\n",
       "   {'date': '2023080200', 'views': 8},\n",
       "   {'date': '2023080300', 'views': 9},\n",
       "   {'date': '2023080400', 'views': 8},\n",
       "   {'date': '2023080500', 'views': 15},\n",
       "   {'date': '2023080600', 'views': 23},\n",
       "   {'date': '2023080700', 'views': 10},\n",
       "   {'date': '2023080800', 'views': 10},\n",
       "   {'date': '2023080900', 'views': 11},\n",
       "   {'date': '2023081000', 'views': 13},\n",
       "   {'date': '2023081100', 'views': 6},\n",
       "   {'date': '2023081200', 'views': 8},\n",
       "   {'date': '2023081300', 'views': 14},\n",
       "   {'date': '2023081400', 'views': 7},\n",
       "   {'date': '2023081500', 'views': 8},\n",
       "   {'date': '2023081600', 'views': 9},\n",
       "   {'date': '2023081700', 'views': 7},\n",
       "   {'date': '2023081800', 'views': 10},\n",
       "   {'date': '2023081900', 'views': 2},\n",
       "   {'date': '2023082000', 'views': 8},\n",
       "   {'date': '2023082100', 'views': 15},\n",
       "   {'date': '2023082200', 'views': 6},\n",
       "   {'date': '2023082300', 'views': 5},\n",
       "   {'date': '2023082400', 'views': 9},\n",
       "   {'date': '2023082500', 'views': 11},\n",
       "   {'date': '2023082600', 'views': 3},\n",
       "   {'date': '2023082700', 'views': 10},\n",
       "   {'date': '2023082800', 'views': 10},\n",
       "   {'date': '2023082900', 'views': 13},\n",
       "   {'date': '2023083000', 'views': 6},\n",
       "   {'date': '2023083100', 'views': 6},\n",
       "   {'date': '2023090100', 'views': 9},\n",
       "   {'date': '2023090200', 'views': 1},\n",
       "   {'date': '2023090300', 'views': 12},\n",
       "   {'date': '2023090400', 'views': 9},\n",
       "   {'date': '2023090500', 'views': 12},\n",
       "   {'date': '2023090600', 'views': 5},\n",
       "   {'date': '2023090700', 'views': 3},\n",
       "   {'date': '2023090800', 'views': 11},\n",
       "   {'date': '2023090900', 'views': 5},\n",
       "   {'date': '2023091000', 'views': 8},\n",
       "   {'date': '2023091100', 'views': 5},\n",
       "   {'date': '2023091200', 'views': 7},\n",
       "   {'date': '2023091300', 'views': 12},\n",
       "   {'date': '2023091400', 'views': 7},\n",
       "   {'date': '2023091500', 'views': 8},\n",
       "   {'date': '2023091600', 'views': 15},\n",
       "   {'date': '2023091700', 'views': 7},\n",
       "   {'date': '2023091800', 'views': 6},\n",
       "   {'date': '2023091900', 'views': 5},\n",
       "   {'date': '2023092000', 'views': 7},\n",
       "   {'date': '2023092100', 'views': 4},\n",
       "   {'date': '2023092200', 'views': 8},\n",
       "   {'date': '2023092300', 'views': 14},\n",
       "   {'date': '2023092400', 'views': 6},\n",
       "   {'date': '2023092500', 'views': 10},\n",
       "   {'date': '2023092600', 'views': 8},\n",
       "   {'date': '2023092700', 'views': 3},\n",
       "   {'date': '2023092800', 'views': 4},\n",
       "   {'date': '2023092900', 'views': 7},\n",
       "   {'date': '2023093000', 'views': 6},\n",
       "   {'date': '2023100100', 'views': 18}]},\n",
       " {'name': 'CATAN – Händler & Barbaren',\n",
       "  'position': 0,\n",
       "  'views': [{'date': '2023070100', 'views': 4},\n",
       "   {'date': '2023070200', 'views': 8},\n",
       "   {'date': '2023070300', 'views': 9},\n",
       "   {'date': '2023070400', 'views': 4},\n",
       "   {'date': '2023070500', 'views': 5},\n",
       "   {'date': '2023070600', 'views': 2},\n",
       "   {'date': '2023070700', 'views': 1},\n",
       "   {'date': '2023070800', 'views': 2},\n",
       "   {'date': '2023070900', 'views': 1},\n",
       "   {'date': '2023071000', 'views': 7},\n",
       "   {'date': '2023071100', 'views': 6},\n",
       "   {'date': '2023071200', 'views': 6},\n",
       "   {'date': '2023071300', 'views': 5},\n",
       "   {'date': '2023071400', 'views': 4},\n",
       "   {'date': '2023071500', 'views': 1},\n",
       "   {'date': '2023071600', 'views': 4},\n",
       "   {'date': '2023071700', 'views': 3},\n",
       "   {'date': '2023071800', 'views': 9},\n",
       "   {'date': '2023071900', 'views': 4},\n",
       "   {'date': '2023072000', 'views': 5},\n",
       "   {'date': '2023072100', 'views': 6},\n",
       "   {'date': '2023072200', 'views': 10},\n",
       "   {'date': '2023072300', 'views': 3},\n",
       "   {'date': '2023072400', 'views': 7},\n",
       "   {'date': '2023072500', 'views': 5},\n",
       "   {'date': '2023072600', 'views': 3},\n",
       "   {'date': '2023072700', 'views': 3},\n",
       "   {'date': '2023072800', 'views': 7},\n",
       "   {'date': '2023072900', 'views': 5},\n",
       "   {'date': '2023073000', 'views': 5},\n",
       "   {'date': '2023073100', 'views': 1},\n",
       "   {'date': '2023080100', 'views': 8},\n",
       "   {'date': '2023080200', 'views': 6},\n",
       "   {'date': '2023080300', 'views': 5},\n",
       "   {'date': '2023080400', 'views': 3},\n",
       "   {'date': '2023080500', 'views': 4},\n",
       "   {'date': '2023080600', 'views': 20},\n",
       "   {'date': '2023080700', 'views': 5},\n",
       "   {'date': '2023080800', 'views': 7},\n",
       "   {'date': '2023080900', 'views': 8},\n",
       "   {'date': '2023081000', 'views': 8},\n",
       "   {'date': '2023081100', 'views': 7},\n",
       "   {'date': '2023081200', 'views': 5},\n",
       "   {'date': '2023081300', 'views': 6},\n",
       "   {'date': '2023081400', 'views': 4},\n",
       "   {'date': '2023081500', 'views': 2},\n",
       "   {'date': '2023081600', 'views': 4},\n",
       "   {'date': '2023081700', 'views': 2},\n",
       "   {'date': '2023081800', 'views': 5},\n",
       "   {'date': '2023081900', 'views': 4},\n",
       "   {'date': '2023082000', 'views': 6},\n",
       "   {'date': '2023082100', 'views': 5},\n",
       "   {'date': '2023082200', 'views': 4},\n",
       "   {'date': '2023082300', 'views': 9},\n",
       "   {'date': '2023082400', 'views': 4},\n",
       "   {'date': '2023082500', 'views': 2},\n",
       "   {'date': '2023082600', 'views': 8},\n",
       "   {'date': '2023082700', 'views': 9},\n",
       "   {'date': '2023082800', 'views': 7},\n",
       "   {'date': '2023082900', 'views': 7},\n",
       "   {'date': '2023083000', 'views': 2},\n",
       "   {'date': '2023083100', 'views': 4},\n",
       "   {'date': '2023090100', 'views': 6},\n",
       "   {'date': '2023090200', 'views': 4},\n",
       "   {'date': '2023090300', 'views': 9},\n",
       "   {'date': '2023090400', 'views': 4},\n",
       "   {'date': '2023090500', 'views': 1},\n",
       "   {'date': '2023090600', 'views': 5},\n",
       "   {'date': '2023090700', 'views': 5},\n",
       "   {'date': '2023090800', 'views': 6},\n",
       "   {'date': '2023090900', 'views': 4},\n",
       "   {'date': '2023091000', 'views': 0},\n",
       "   {'date': '2023091100', 'views': 5},\n",
       "   {'date': '2023091200', 'views': 2},\n",
       "   {'date': '2023091300', 'views': 1},\n",
       "   {'date': '2023091400', 'views': 9},\n",
       "   {'date': '2023091500', 'views': 2},\n",
       "   {'date': '2023091600', 'views': 8},\n",
       "   {'date': '2023091700', 'views': 6},\n",
       "   {'date': '2023091800', 'views': 3},\n",
       "   {'date': '2023091900', 'views': 7},\n",
       "   {'date': '2023092000', 'views': 5},\n",
       "   {'date': '2023092100', 'views': 6},\n",
       "   {'date': '2023092200', 'views': 2},\n",
       "   {'date': '2023092300', 'views': 5},\n",
       "   {'date': '2023092400', 'views': 2},\n",
       "   {'date': '2023092500', 'views': 5},\n",
       "   {'date': '2023092600', 'views': 7},\n",
       "   {'date': '2023092700', 'views': 3},\n",
       "   {'date': '2023092800', 'views': 1},\n",
       "   {'date': '2023092900', 'views': 3},\n",
       "   {'date': '2023093000', 'views': 1},\n",
       "   {'date': '2023100100', 'views': 9}]}]"
      ]
     },
     "execution_count": 469,
     "metadata": {},
     "output_type": "execute_result"
    }
   ],
   "source": [
    "top1 = list(compress(filtered2,[e[\"position\"] == 0 for e in filtered2]))\n",
    "top1"
   ]
  },
  {
   "cell_type": "code",
   "execution_count": 473,
   "metadata": {},
   "outputs": [
    {
     "data": {
      "text/plain": [
       "[('Drunter & Drüber', {'date': '2023070100', 'views': 17}),\n",
       " ('Klaus Täuber', {'date': '2023070100', 'views': 19895}),\n",
       " ('Anno 1503 (Brettspiel)', {'date': '2023070100', 'views': 4}),\n",
       " ('Entdecker (Spiel)', {'date': '2023070100', 'views': 4}),\n",
       " ('Catan – Das Duell', {'date': '2023070100', 'views': 13}),\n",
       " ('CATAN – Seefahrer-Erweiterung', {'date': '2023070100', 'views': 7}),\n",
       " ('CATAN – Städte & Ritter', {'date': '2023070100', 'views': 14}),\n",
       " ('CATAN – Händler & Barbaren', {'date': '2023070100', 'views': 4})]"
      ]
     },
     "execution_count": 473,
     "metadata": {},
     "output_type": "execute_result"
    }
   ],
   "source": [
    "[(e[\"name\"],e[\"views\"][0]) for e in top1]"
   ]
  }
 ],
 "metadata": {
  "kernelspec": {
   "display_name": "Python 3 (ipykernel)",
   "language": "python",
   "name": "python3"
  }
 },
 "nbformat": 4,
 "nbformat_minor": 2
}
